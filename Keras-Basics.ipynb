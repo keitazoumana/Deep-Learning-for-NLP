{
 "cells": [
  {
   "cell_type": "markdown",
   "metadata": {},
   "source": [
    "# Keras Basics     \n",
    "\n",
    "* Let's learn how to create a very simple neural network for classifying the famous Iris dataset.   \n",
    "* The dataset contains measurements of flower petals, and sepals, and their corresponding labels to one of the three classes (3 flower species)"
   ]
  },
  {
   "cell_type": "code",
   "execution_count": 11,
   "metadata": {},
   "outputs": [],
   "source": [
    "#%%bash\n",
    "#pip install keras"
   ]
  },
  {
   "cell_type": "code",
   "execution_count": 14,
   "metadata": {},
   "outputs": [],
   "source": [
    "#%%bash\n",
    "#pip install tensorflow "
   ]
  },
  {
   "cell_type": "code",
   "execution_count": 1,
   "metadata": {},
   "outputs": [],
   "source": [
    "import numpy as np"
   ]
  },
  {
   "cell_type": "code",
   "execution_count": 2,
   "metadata": {},
   "outputs": [],
   "source": [
    "from sklearn.datasets import load_iris"
   ]
  },
  {
   "cell_type": "code",
   "execution_count": 3,
   "metadata": {},
   "outputs": [],
   "source": [
    "iris = load_iris()"
   ]
  },
  {
   "cell_type": "code",
   "execution_count": 4,
   "metadata": {},
   "outputs": [
    {
     "data": {
      "text/plain": [
       "sklearn.utils.Bunch"
      ]
     },
     "execution_count": 4,
     "metadata": {},
     "output_type": "execute_result"
    }
   ],
   "source": [
    "type(iris)"
   ]
  },
  {
   "cell_type": "code",
   "execution_count": 5,
   "metadata": {},
   "outputs": [
    {
     "name": "stdout",
     "output_type": "stream",
     "text": [
      ".. _iris_dataset:\n",
      "\n",
      "Iris plants dataset\n",
      "--------------------\n",
      "\n",
      "**Data Set Characteristics:**\n",
      "\n",
      "    :Number of Instances: 150 (50 in each of three classes)\n",
      "    :Number of Attributes: 4 numeric, predictive attributes and the class\n",
      "    :Attribute Information:\n",
      "        - sepal length in cm\n",
      "        - sepal width in cm\n",
      "        - petal length in cm\n",
      "        - petal width in cm\n",
      "        - class:\n",
      "                - Iris-Setosa\n",
      "                - Iris-Versicolour\n",
      "                - Iris-Virginica\n",
      "                \n",
      "    :Summary Statistics:\n",
      "\n",
      "    ============== ==== ==== ======= ===== ====================\n",
      "                    Min  Max   Mean    SD   Class Correlation\n",
      "    ============== ==== ==== ======= ===== ====================\n",
      "    sepal length:   4.3  7.9   5.84   0.83    0.7826\n",
      "    sepal width:    2.0  4.4   3.05   0.43   -0.4194\n",
      "    petal length:   1.0  6.9   3.76   1.76    0.9490  (high!)\n",
      "    petal width:    0.1  2.5   1.20   0.76    0.9565  (high!)\n",
      "    ============== ==== ==== ======= ===== ====================\n",
      "\n",
      "    :Missing Attribute Values: None\n",
      "    :Class Distribution: 33.3% for each of 3 classes.\n",
      "    :Creator: R.A. Fisher\n",
      "    :Donor: Michael Marshall (MARSHALL%PLU@io.arc.nasa.gov)\n",
      "    :Date: July, 1988\n",
      "\n",
      "The famous Iris database, first used by Sir R.A. Fisher. The dataset is taken\n",
      "from Fisher's paper. Note that it's the same as in R, but not as in the UCI\n",
      "Machine Learning Repository, which has two wrong data points.\n",
      "\n",
      "This is perhaps the best known database to be found in the\n",
      "pattern recognition literature.  Fisher's paper is a classic in the field and\n",
      "is referenced frequently to this day.  (See Duda & Hart, for example.)  The\n",
      "data set contains 3 classes of 50 instances each, where each class refers to a\n",
      "type of iris plant.  One class is linearly separable from the other 2; the\n",
      "latter are NOT linearly separable from each other.\n",
      "\n",
      ".. topic:: References\n",
      "\n",
      "   - Fisher, R.A. \"The use of multiple measurements in taxonomic problems\"\n",
      "     Annual Eugenics, 7, Part II, 179-188 (1936); also in \"Contributions to\n",
      "     Mathematical Statistics\" (John Wiley, NY, 1950).\n",
      "   - Duda, R.O., & Hart, P.E. (1973) Pattern Classification and Scene Analysis.\n",
      "     (Q327.D83) John Wiley & Sons.  ISBN 0-471-22361-1.  See page 218.\n",
      "   - Dasarathy, B.V. (1980) \"Nosing Around the Neighborhood: A New System\n",
      "     Structure and Classification Rule for Recognition in Partially Exposed\n",
      "     Environments\".  IEEE Transactions on Pattern Analysis and Machine\n",
      "     Intelligence, Vol. PAMI-2, No. 1, 67-71.\n",
      "   - Gates, G.W. (1972) \"The Reduced Nearest Neighbor Rule\".  IEEE Transactions\n",
      "     on Information Theory, May 1972, 431-433.\n",
      "   - See also: 1988 MLC Proceedings, 54-64.  Cheeseman et al\"s AUTOCLASS II\n",
      "     conceptual clustering system finds 3 classes in the data.\n",
      "   - Many, many more ...\n"
     ]
    }
   ],
   "source": [
    "print(iris.DESCR)"
   ]
  },
  {
   "cell_type": "code",
   "execution_count": 8,
   "metadata": {},
   "outputs": [],
   "source": [
    "X = iris.data\n",
    "y = iris.target"
   ]
  },
  {
   "cell_type": "code",
   "execution_count": 9,
   "metadata": {},
   "outputs": [
    {
     "data": {
      "text/plain": [
       "array([0, 0, 0, 0, 0, 0, 0, 0, 0, 0, 0, 0, 0, 0, 0, 0, 0, 0, 0, 0, 0, 0,\n",
       "       0, 0, 0, 0, 0, 0, 0, 0, 0, 0, 0, 0, 0, 0, 0, 0, 0, 0, 0, 0, 0, 0,\n",
       "       0, 0, 0, 0, 0, 0, 1, 1, 1, 1, 1, 1, 1, 1, 1, 1, 1, 1, 1, 1, 1, 1,\n",
       "       1, 1, 1, 1, 1, 1, 1, 1, 1, 1, 1, 1, 1, 1, 1, 1, 1, 1, 1, 1, 1, 1,\n",
       "       1, 1, 1, 1, 1, 1, 1, 1, 1, 1, 1, 1, 2, 2, 2, 2, 2, 2, 2, 2, 2, 2,\n",
       "       2, 2, 2, 2, 2, 2, 2, 2, 2, 2, 2, 2, 2, 2, 2, 2, 2, 2, 2, 2, 2, 2,\n",
       "       2, 2, 2, 2, 2, 2, 2, 2, 2, 2, 2, 2, 2, 2, 2, 2, 2, 2])"
      ]
     },
     "execution_count": 9,
     "metadata": {},
     "output_type": "execute_result"
    }
   ],
   "source": [
    "y"
   ]
  },
  {
   "cell_type": "code",
   "execution_count": 48,
   "metadata": {},
   "outputs": [],
   "source": [
    "## One-hot encoding for the labels\n",
    "# class 0 --> [1, 0, 0]\n",
    "# class 1 --> [0, 1, 0]\n",
    "# class 2 --> [0, 0, 1]\n",
    "from keras.utils import to_categorical"
   ]
  },
  {
   "cell_type": "code",
   "execution_count": 16,
   "metadata": {},
   "outputs": [],
   "source": [
    "y = to_categorical(y)"
   ]
  },
  {
   "cell_type": "code",
   "execution_count": 17,
   "metadata": {},
   "outputs": [
    {
     "data": {
      "text/plain": [
       "(150, 3)"
      ]
     },
     "execution_count": 17,
     "metadata": {},
     "output_type": "execute_result"
    }
   ],
   "source": [
    "y.shape"
   ]
  },
  {
   "cell_type": "code",
   "execution_count": 19,
   "metadata": {},
   "outputs": [],
   "source": [
    "# y"
   ]
  },
  {
   "cell_type": "code",
   "execution_count": 20,
   "metadata": {},
   "outputs": [],
   "source": [
    "from sklearn.model_selection import train_test_split"
   ]
  },
  {
   "cell_type": "code",
   "execution_count": 21,
   "metadata": {},
   "outputs": [],
   "source": [
    "X_train, X_test, y_train, y_test = train_test_split(X,y, test_size=0.33, random_state=42)"
   ]
  },
  {
   "cell_type": "code",
   "execution_count": 22,
   "metadata": {},
   "outputs": [],
   "source": [
    "# For neural net, it is good to scale or standardize the data \n",
    "from sklearn.preprocessing import MinMaxScaler"
   ]
  },
  {
   "cell_type": "code",
   "execution_count": 23,
   "metadata": {},
   "outputs": [],
   "source": [
    "scaler_object = MinMaxScaler()"
   ]
  },
  {
   "cell_type": "code",
   "execution_count": 25,
   "metadata": {},
   "outputs": [
    {
     "data": {
      "text/plain": [
       "MinMaxScaler()"
      ]
     },
     "execution_count": 25,
     "metadata": {},
     "output_type": "execute_result"
    }
   ],
   "source": [
    "# We perform fit Scaling on ONLY TRAINING DATA\n",
    "scaler_object.fit(X_train)"
   ]
  },
  {
   "cell_type": "code",
   "execution_count": 26,
   "metadata": {},
   "outputs": [],
   "source": [
    "scaled_X_train = scaler_object.transform(X_train)\n",
    "scaled_X_test = scaler_object.transform(X_test)"
   ]
  },
  {
   "cell_type": "code",
   "execution_count": null,
   "metadata": {},
   "outputs": [],
   "source": []
  },
  {
   "cell_type": "code",
   "execution_count": 42,
   "metadata": {},
   "outputs": [],
   "source": [
    "# Useful keras libraries\n",
    "from keras.models import Sequential\n",
    "from keras.layers import Dense"
   ]
  },
  {
   "cell_type": "code",
   "execution_count": 28,
   "metadata": {},
   "outputs": [],
   "source": [
    "# Build the network\n",
    "model = Sequential()\n",
    "model.add(Dense(8, input_dim=4, activation='relu'))\n",
    "model.add(Dense(8, input_dim=4, activation='relu'))\n",
    "model.add(Dense(3, activation='softmax')) # --> Gives Probability values for each class\n",
    "model.compile(loss='categorical_crossentropy', optimizer='adam', metrics=['accuracy'])"
   ]
  },
  {
   "cell_type": "code",
   "execution_count": 29,
   "metadata": {},
   "outputs": [
    {
     "name": "stdout",
     "output_type": "stream",
     "text": [
      "Model: \"sequential_1\"\n",
      "_________________________________________________________________\n",
      "Layer (type)                 Output Shape              Param #   \n",
      "=================================================================\n",
      "dense_1 (Dense)              (None, 8)                 40        \n",
      "_________________________________________________________________\n",
      "dense_2 (Dense)              (None, 8)                 72        \n",
      "_________________________________________________________________\n",
      "dense_3 (Dense)              (None, 3)                 27        \n",
      "=================================================================\n",
      "Total params: 139\n",
      "Trainable params: 139\n",
      "Non-trainable params: 0\n",
      "_________________________________________________________________\n"
     ]
    }
   ],
   "source": [
    "model.summary()"
   ]
  },
  {
   "cell_type": "code",
   "execution_count": 30,
   "metadata": {},
   "outputs": [
    {
     "name": "stdout",
     "output_type": "stream",
     "text": [
      "Epoch 1/200\n",
      " - 0s - loss: 1.1128 - accuracy: 0.3400\n",
      "Epoch 2/200\n",
      " - 0s - loss: 1.1088 - accuracy: 0.3200\n",
      "Epoch 3/200\n",
      " - 0s - loss: 1.1050 - accuracy: 0.3200\n",
      "Epoch 4/200\n",
      " - 0s - loss: 1.1017 - accuracy: 0.3100\n",
      "Epoch 5/200\n",
      " - 0s - loss: 1.0984 - accuracy: 0.3100\n",
      "Epoch 6/200\n",
      " - 0s - loss: 1.0954 - accuracy: 0.3200\n",
      "Epoch 7/200\n",
      " - 0s - loss: 1.0936 - accuracy: 0.3200\n",
      "Epoch 8/200\n",
      " - 0s - loss: 1.0920 - accuracy: 0.3500\n",
      "Epoch 9/200\n",
      " - 0s - loss: 1.0905 - accuracy: 0.3400\n",
      "Epoch 10/200\n",
      " - 0s - loss: 1.0890 - accuracy: 0.3200\n",
      "Epoch 11/200\n",
      " - 0s - loss: 1.0875 - accuracy: 0.3100\n",
      "Epoch 12/200\n",
      " - 0s - loss: 1.0860 - accuracy: 0.3200\n",
      "Epoch 13/200\n",
      " - 0s - loss: 1.0844 - accuracy: 0.3200\n",
      "Epoch 14/200\n",
      " - 0s - loss: 1.0827 - accuracy: 0.3200\n",
      "Epoch 15/200\n",
      " - 0s - loss: 1.0810 - accuracy: 0.3300\n",
      "Epoch 16/200\n",
      " - 0s - loss: 1.0793 - accuracy: 0.3400\n",
      "Epoch 17/200\n",
      " - 0s - loss: 1.0776 - accuracy: 0.3500\n",
      "Epoch 18/200\n",
      " - 0s - loss: 1.0758 - accuracy: 0.3300\n",
      "Epoch 19/200\n",
      " - 0s - loss: 1.0739 - accuracy: 0.3300\n",
      "Epoch 20/200\n",
      " - 0s - loss: 1.0719 - accuracy: 0.3200\n",
      "Epoch 21/200\n",
      " - 0s - loss: 1.0698 - accuracy: 0.3200\n",
      "Epoch 22/200\n",
      " - 0s - loss: 1.0676 - accuracy: 0.3300\n",
      "Epoch 23/200\n",
      " - 0s - loss: 1.0651 - accuracy: 0.3300\n",
      "Epoch 24/200\n",
      " - 0s - loss: 1.0625 - accuracy: 0.3300\n",
      "Epoch 25/200\n",
      " - 0s - loss: 1.0594 - accuracy: 0.3300\n",
      "Epoch 26/200\n",
      " - 0s - loss: 1.0563 - accuracy: 0.3300\n",
      "Epoch 27/200\n",
      " - 0s - loss: 1.0528 - accuracy: 0.3200\n",
      "Epoch 28/200\n",
      " - 0s - loss: 1.0493 - accuracy: 0.3200\n",
      "Epoch 29/200\n",
      " - 0s - loss: 1.0457 - accuracy: 0.3200\n",
      "Epoch 30/200\n",
      " - 0s - loss: 1.0422 - accuracy: 0.3300\n",
      "Epoch 31/200\n",
      " - 0s - loss: 1.0384 - accuracy: 0.3500\n",
      "Epoch 32/200\n",
      " - 0s - loss: 1.0349 - accuracy: 0.3400\n",
      "Epoch 33/200\n",
      " - 0s - loss: 1.0307 - accuracy: 0.3600\n",
      "Epoch 34/200\n",
      " - 0s - loss: 1.0264 - accuracy: 0.3200\n",
      "Epoch 35/200\n",
      " - 0s - loss: 1.0216 - accuracy: 0.3500\n",
      "Epoch 36/200\n",
      " - 0s - loss: 1.0165 - accuracy: 0.3600\n",
      "Epoch 37/200\n",
      " - 0s - loss: 1.0108 - accuracy: 0.3700\n",
      "Epoch 38/200\n",
      " - 0s - loss: 1.0048 - accuracy: 0.3900\n",
      "Epoch 39/200\n",
      " - 0s - loss: 0.9985 - accuracy: 0.3700\n",
      "Epoch 40/200\n",
      " - 0s - loss: 0.9921 - accuracy: 0.3600\n",
      "Epoch 41/200\n",
      " - 0s - loss: 0.9856 - accuracy: 0.3600\n",
      "Epoch 42/200\n",
      " - 0s - loss: 0.9785 - accuracy: 0.3500\n",
      "Epoch 43/200\n",
      " - 0s - loss: 0.9718 - accuracy: 0.3300\n",
      "Epoch 44/200\n",
      " - 0s - loss: 0.9648 - accuracy: 0.3300\n",
      "Epoch 45/200\n",
      " - 0s - loss: 0.9575 - accuracy: 0.4600\n",
      "Epoch 46/200\n",
      " - 0s - loss: 0.9501 - accuracy: 0.4900\n",
      "Epoch 47/200\n",
      " - 0s - loss: 0.9429 - accuracy: 0.5100\n",
      "Epoch 48/200\n",
      " - 0s - loss: 0.9352 - accuracy: 0.5200\n",
      "Epoch 49/200\n",
      " - 0s - loss: 0.9278 - accuracy: 0.5400\n",
      "Epoch 50/200\n",
      " - 0s - loss: 0.9205 - accuracy: 0.5400\n",
      "Epoch 51/200\n",
      " - 0s - loss: 0.9131 - accuracy: 0.5600\n",
      "Epoch 52/200\n",
      " - 0s - loss: 0.9057 - accuracy: 0.5700\n",
      "Epoch 53/200\n",
      " - 0s - loss: 0.8986 - accuracy: 0.5800\n",
      "Epoch 54/200\n",
      " - 0s - loss: 0.8913 - accuracy: 0.6100\n",
      "Epoch 55/200\n",
      " - 0s - loss: 0.8842 - accuracy: 0.6200\n",
      "Epoch 56/200\n",
      " - 0s - loss: 0.8772 - accuracy: 0.6300\n",
      "Epoch 57/200\n",
      " - 0s - loss: 0.8700 - accuracy: 0.6700\n",
      "Epoch 58/200\n",
      " - 0s - loss: 0.8627 - accuracy: 0.6700\n",
      "Epoch 59/200\n",
      " - 0s - loss: 0.8555 - accuracy: 0.6400\n",
      "Epoch 60/200\n",
      " - 0s - loss: 0.8479 - accuracy: 0.6300\n",
      "Epoch 61/200\n",
      " - 0s - loss: 0.8405 - accuracy: 0.6400\n",
      "Epoch 62/200\n",
      " - 0s - loss: 0.8333 - accuracy: 0.6300\n",
      "Epoch 63/200\n",
      " - 0s - loss: 0.8258 - accuracy: 0.6400\n",
      "Epoch 64/200\n",
      " - 0s - loss: 0.8182 - accuracy: 0.6400\n",
      "Epoch 65/200\n",
      " - 0s - loss: 0.8107 - accuracy: 0.6400\n",
      "Epoch 66/200\n",
      " - 0s - loss: 0.8039 - accuracy: 0.6500\n",
      "Epoch 67/200\n",
      " - 0s - loss: 0.7969 - accuracy: 0.6500\n",
      "Epoch 68/200\n",
      " - 0s - loss: 0.7896 - accuracy: 0.6500\n",
      "Epoch 69/200\n",
      " - 0s - loss: 0.7831 - accuracy: 0.6500\n",
      "Epoch 70/200\n",
      " - 0s - loss: 0.7763 - accuracy: 0.6500\n",
      "Epoch 71/200\n",
      " - 0s - loss: 0.7696 - accuracy: 0.6500\n",
      "Epoch 72/200\n",
      " - 0s - loss: 0.7627 - accuracy: 0.6500\n",
      "Epoch 73/200\n",
      " - 0s - loss: 0.7561 - accuracy: 0.6500\n",
      "Epoch 74/200\n",
      " - 0s - loss: 0.7494 - accuracy: 0.6500\n",
      "Epoch 75/200\n",
      " - 0s - loss: 0.7424 - accuracy: 0.6500\n",
      "Epoch 76/200\n",
      " - 0s - loss: 0.7362 - accuracy: 0.6500\n",
      "Epoch 77/200\n",
      " - 0s - loss: 0.7286 - accuracy: 0.6500\n",
      "Epoch 78/200\n",
      " - 0s - loss: 0.7209 - accuracy: 0.6500\n",
      "Epoch 79/200\n",
      " - 0s - loss: 0.7134 - accuracy: 0.6500\n",
      "Epoch 80/200\n",
      " - 0s - loss: 0.7063 - accuracy: 0.6500\n",
      "Epoch 81/200\n",
      " - 0s - loss: 0.6992 - accuracy: 0.6500\n",
      "Epoch 82/200\n",
      " - 0s - loss: 0.6910 - accuracy: 0.6500\n",
      "Epoch 83/200\n",
      " - 0s - loss: 0.6838 - accuracy: 0.6500\n",
      "Epoch 84/200\n",
      " - 0s - loss: 0.6772 - accuracy: 0.6500\n",
      "Epoch 85/200\n",
      " - 0s - loss: 0.6704 - accuracy: 0.6500\n",
      "Epoch 86/200\n",
      " - 0s - loss: 0.6635 - accuracy: 0.6600\n",
      "Epoch 87/200\n",
      " - 0s - loss: 0.6572 - accuracy: 0.6800\n",
      "Epoch 88/200\n",
      " - 0s - loss: 0.6518 - accuracy: 0.7100\n",
      "Epoch 89/200\n",
      " - 0s - loss: 0.6451 - accuracy: 0.7200\n",
      "Epoch 90/200\n",
      " - 0s - loss: 0.6393 - accuracy: 0.7200\n",
      "Epoch 91/200\n",
      " - 0s - loss: 0.6333 - accuracy: 0.7200\n",
      "Epoch 92/200\n",
      " - 0s - loss: 0.6270 - accuracy: 0.7200\n",
      "Epoch 93/200\n",
      " - 0s - loss: 0.6208 - accuracy: 0.7100\n",
      "Epoch 94/200\n",
      " - 0s - loss: 0.6147 - accuracy: 0.7000\n",
      "Epoch 95/200\n",
      " - 0s - loss: 0.6088 - accuracy: 0.7000\n",
      "Epoch 96/200\n",
      " - 0s - loss: 0.6028 - accuracy: 0.7000\n",
      "Epoch 97/200\n",
      " - 0s - loss: 0.5968 - accuracy: 0.7000\n",
      "Epoch 98/200\n",
      " - 0s - loss: 0.5916 - accuracy: 0.7000\n",
      "Epoch 99/200\n",
      " - 0s - loss: 0.5864 - accuracy: 0.6700\n",
      "Epoch 100/200\n",
      " - 0s - loss: 0.5808 - accuracy: 0.6700\n",
      "Epoch 101/200\n",
      " - 0s - loss: 0.5760 - accuracy: 0.6900\n",
      "Epoch 102/200\n",
      " - 0s - loss: 0.5713 - accuracy: 0.7000\n",
      "Epoch 103/200\n",
      " - 0s - loss: 0.5661 - accuracy: 0.7100\n",
      "Epoch 104/200\n",
      " - 0s - loss: 0.5610 - accuracy: 0.7100\n",
      "Epoch 105/200\n",
      " - 0s - loss: 0.5564 - accuracy: 0.6900\n",
      "Epoch 106/200\n",
      " - 0s - loss: 0.5520 - accuracy: 0.6900\n",
      "Epoch 107/200\n",
      " - 0s - loss: 0.5478 - accuracy: 0.7000\n",
      "Epoch 108/200\n",
      " - 0s - loss: 0.5432 - accuracy: 0.7000\n",
      "Epoch 109/200\n",
      " - 0s - loss: 0.5383 - accuracy: 0.7300\n",
      "Epoch 110/200\n",
      " - 0s - loss: 0.5340 - accuracy: 0.7300\n",
      "Epoch 111/200\n",
      " - 0s - loss: 0.5295 - accuracy: 0.7300\n",
      "Epoch 112/200\n",
      " - 0s - loss: 0.5256 - accuracy: 0.7300\n",
      "Epoch 113/200\n",
      " - 0s - loss: 0.5218 - accuracy: 0.7300\n",
      "Epoch 114/200\n",
      " - 0s - loss: 0.5176 - accuracy: 0.7300\n",
      "Epoch 115/200\n",
      " - 0s - loss: 0.5131 - accuracy: 0.7500\n",
      "Epoch 116/200\n",
      " - 0s - loss: 0.5110 - accuracy: 0.8600\n",
      "Epoch 117/200\n",
      " - 0s - loss: 0.5090 - accuracy: 0.9200\n",
      "Epoch 118/200\n",
      " - 0s - loss: 0.5065 - accuracy: 0.9500\n",
      "Epoch 119/200\n",
      " - 0s - loss: 0.5018 - accuracy: 0.9400\n",
      "Epoch 120/200\n",
      " - 0s - loss: 0.4978 - accuracy: 0.9000\n",
      "Epoch 121/200\n",
      " - 0s - loss: 0.4939 - accuracy: 0.7600\n",
      "Epoch 122/200\n",
      " - 0s - loss: 0.4919 - accuracy: 0.7300\n",
      "Epoch 123/200\n",
      " - 0s - loss: 0.4883 - accuracy: 0.7300\n",
      "Epoch 124/200\n",
      " - 0s - loss: 0.4849 - accuracy: 0.7400\n",
      "Epoch 125/200\n",
      " - 0s - loss: 0.4811 - accuracy: 0.7700\n",
      "Epoch 126/200\n",
      " - 0s - loss: 0.4780 - accuracy: 0.7900\n",
      "Epoch 127/200\n",
      " - 0s - loss: 0.4750 - accuracy: 0.8000\n",
      "Epoch 128/200\n",
      " - 0s - loss: 0.4724 - accuracy: 0.7600\n",
      "Epoch 129/200\n",
      " - 0s - loss: 0.4710 - accuracy: 0.7300\n",
      "Epoch 130/200\n",
      " - 0s - loss: 0.4682 - accuracy: 0.7300\n",
      "Epoch 131/200\n",
      " - 0s - loss: 0.4651 - accuracy: 0.7400\n",
      "Epoch 132/200\n",
      " - 0s - loss: 0.4615 - accuracy: 0.7900\n",
      "Epoch 133/200\n",
      " - 0s - loss: 0.4577 - accuracy: 0.8200\n",
      "Epoch 134/200\n",
      " - 0s - loss: 0.4545 - accuracy: 0.8600\n",
      "Epoch 135/200\n",
      " - 0s - loss: 0.4523 - accuracy: 0.9000\n",
      "Epoch 136/200\n",
      " - 0s - loss: 0.4495 - accuracy: 0.9300\n",
      "Epoch 137/200\n",
      " - 0s - loss: 0.4467 - accuracy: 0.9400\n",
      "Epoch 138/200\n",
      " - 0s - loss: 0.4455 - accuracy: 0.9500\n",
      "Epoch 139/200\n",
      " - 0s - loss: 0.4421 - accuracy: 0.9500\n",
      "Epoch 140/200\n",
      " - 0s - loss: 0.4395 - accuracy: 0.9400\n",
      "Epoch 141/200\n",
      " - 0s - loss: 0.4356 - accuracy: 0.9300\n",
      "Epoch 142/200\n",
      " - 0s - loss: 0.4330 - accuracy: 0.9100\n",
      "Epoch 143/200\n",
      " - 0s - loss: 0.4301 - accuracy: 0.8800\n",
      "Epoch 144/200\n",
      " - 0s - loss: 0.4282 - accuracy: 0.8500\n",
      "Epoch 145/200\n",
      " - 0s - loss: 0.4269 - accuracy: 0.8100\n",
      "Epoch 146/200\n",
      " - 0s - loss: 0.4247 - accuracy: 0.8100\n",
      "Epoch 147/200\n",
      " - 0s - loss: 0.4221 - accuracy: 0.8200\n",
      "Epoch 148/200\n",
      " - 0s - loss: 0.4189 - accuracy: 0.8300\n",
      "Epoch 149/200\n",
      " - 0s - loss: 0.4150 - accuracy: 0.8700\n",
      "Epoch 150/200\n",
      " - 0s - loss: 0.4120 - accuracy: 0.8900\n",
      "Epoch 151/200\n",
      " - 0s - loss: 0.4090 - accuracy: 0.8900\n",
      "Epoch 152/200\n",
      " - 0s - loss: 0.4066 - accuracy: 0.9100\n",
      "Epoch 153/200\n",
      " - 0s - loss: 0.4036 - accuracy: 0.9100\n",
      "Epoch 154/200\n",
      " - 0s - loss: 0.4008 - accuracy: 0.9000\n"
     ]
    },
    {
     "name": "stdout",
     "output_type": "stream",
     "text": [
      "Epoch 155/200\n",
      " - 0s - loss: 0.3978 - accuracy: 0.9100\n",
      "Epoch 156/200\n",
      " - 0s - loss: 0.3952 - accuracy: 0.9000\n",
      "Epoch 157/200\n",
      " - 0s - loss: 0.3923 - accuracy: 0.9000\n",
      "Epoch 158/200\n",
      " - 0s - loss: 0.3896 - accuracy: 0.9300\n",
      "Epoch 159/200\n",
      " - 0s - loss: 0.3853 - accuracy: 0.9400\n",
      "Epoch 160/200\n",
      " - 0s - loss: 0.3822 - accuracy: 0.9400\n",
      "Epoch 161/200\n",
      " - 0s - loss: 0.3794 - accuracy: 0.9400\n",
      "Epoch 162/200\n",
      " - 0s - loss: 0.3761 - accuracy: 0.9400\n",
      "Epoch 163/200\n",
      " - 0s - loss: 0.3733 - accuracy: 0.9400\n",
      "Epoch 164/200\n",
      " - 0s - loss: 0.3706 - accuracy: 0.9400\n",
      "Epoch 165/200\n",
      " - 0s - loss: 0.3669 - accuracy: 0.9400\n",
      "Epoch 166/200\n",
      " - 0s - loss: 0.3640 - accuracy: 0.9400\n",
      "Epoch 167/200\n",
      " - 0s - loss: 0.3606 - accuracy: 0.9500\n",
      "Epoch 168/200\n",
      " - 0s - loss: 0.3575 - accuracy: 0.9600\n",
      "Epoch 169/200\n",
      " - 0s - loss: 0.3559 - accuracy: 0.9600\n",
      "Epoch 170/200\n",
      " - 0s - loss: 0.3539 - accuracy: 0.9700\n",
      "Epoch 171/200\n",
      " - 0s - loss: 0.3531 - accuracy: 0.9600\n",
      "Epoch 172/200\n",
      " - 0s - loss: 0.3512 - accuracy: 0.9700\n",
      "Epoch 173/200\n",
      " - 0s - loss: 0.3470 - accuracy: 0.9600\n",
      "Epoch 174/200\n",
      " - 0s - loss: 0.3419 - accuracy: 0.9700\n",
      "Epoch 175/200\n",
      " - 0s - loss: 0.3372 - accuracy: 0.9600\n",
      "Epoch 176/200\n",
      " - 0s - loss: 0.3341 - accuracy: 0.9500\n",
      "Epoch 177/200\n",
      " - 0s - loss: 0.3326 - accuracy: 0.9500\n",
      "Epoch 178/200\n",
      " - 0s - loss: 0.3314 - accuracy: 0.9300\n",
      "Epoch 179/200\n",
      " - 0s - loss: 0.3287 - accuracy: 0.9200\n",
      "Epoch 180/200\n",
      " - 0s - loss: 0.3258 - accuracy: 0.9300\n",
      "Epoch 181/200\n",
      " - 0s - loss: 0.3225 - accuracy: 0.9400\n",
      "Epoch 182/200\n",
      " - 0s - loss: 0.3172 - accuracy: 0.9600\n",
      "Epoch 183/200\n",
      " - 0s - loss: 0.3142 - accuracy: 0.9600\n",
      "Epoch 184/200\n",
      " - 0s - loss: 0.3168 - accuracy: 0.9600\n",
      "Epoch 185/200\n",
      " - 0s - loss: 0.3148 - accuracy: 0.9600\n",
      "Epoch 186/200\n",
      " - 0s - loss: 0.3095 - accuracy: 0.9700\n",
      "Epoch 187/200\n",
      " - 0s - loss: 0.3063 - accuracy: 0.9600\n",
      "Epoch 188/200\n",
      " - 0s - loss: 0.3029 - accuracy: 0.9600\n",
      "Epoch 189/200\n",
      " - 0s - loss: 0.3002 - accuracy: 0.9600\n",
      "Epoch 190/200\n",
      " - 0s - loss: 0.2976 - accuracy: 0.9600\n",
      "Epoch 191/200\n",
      " - 0s - loss: 0.2953 - accuracy: 0.9600\n",
      "Epoch 192/200\n",
      " - 0s - loss: 0.2943 - accuracy: 0.9700\n",
      "Epoch 193/200\n",
      " - 0s - loss: 0.2932 - accuracy: 0.9700\n",
      "Epoch 194/200\n",
      " - 0s - loss: 0.2901 - accuracy: 0.9700\n",
      "Epoch 195/200\n",
      " - 0s - loss: 0.2865 - accuracy: 0.9700\n",
      "Epoch 196/200\n",
      " - 0s - loss: 0.2837 - accuracy: 0.9600\n",
      "Epoch 197/200\n",
      " - 0s - loss: 0.2811 - accuracy: 0.9600\n",
      "Epoch 198/200\n",
      " - 0s - loss: 0.2792 - accuracy: 0.9600\n",
      "Epoch 199/200\n",
      " - 0s - loss: 0.2779 - accuracy: 0.9600\n",
      "Epoch 200/200\n",
      " - 0s - loss: 0.2757 - accuracy: 0.9600\n"
     ]
    },
    {
     "data": {
      "text/plain": [
       "<keras.callbacks.callbacks.History at 0x1515ebbe0>"
      ]
     },
     "execution_count": 30,
     "metadata": {},
     "output_type": "execute_result"
    }
   ],
   "source": [
    "model.fit(scaled_X_train, y_train, epochs=200, verbose=2)"
   ]
  },
  {
   "cell_type": "code",
   "execution_count": 31,
   "metadata": {},
   "outputs": [
    {
     "data": {
      "text/plain": [
       "array([1, 0, 2, 1, 1, 0, 1, 2, 2, 1, 2, 0, 0, 0, 0, 1, 2, 1, 1, 2, 0, 2,\n",
       "       0, 2, 2, 2, 2, 2, 0, 0, 0, 0, 1, 0, 0, 2, 1, 0, 0, 0, 2, 1, 1, 0,\n",
       "       0, 1, 2, 2, 1, 2])"
      ]
     },
     "execution_count": 31,
     "metadata": {},
     "output_type": "execute_result"
    }
   ],
   "source": [
    "model.predict_classes(scaled_X_test)"
   ]
  },
  {
   "cell_type": "code",
   "execution_count": 32,
   "metadata": {},
   "outputs": [],
   "source": [
    "predictions = model.predict_classes(scaled_X_test)"
   ]
  },
  {
   "cell_type": "code",
   "execution_count": 33,
   "metadata": {},
   "outputs": [
    {
     "data": {
      "text/plain": [
       "array([1, 0, 2, 1, 1, 0, 1, 2, 1, 1, 2, 0, 0, 0, 0, 1, 2, 1, 1, 2, 0, 2,\n",
       "       0, 2, 2, 2, 2, 2, 0, 0, 0, 0, 1, 0, 0, 2, 1, 0, 0, 0, 2, 1, 1, 0,\n",
       "       0, 1, 2, 2, 1, 2])"
      ]
     },
     "execution_count": 33,
     "metadata": {},
     "output_type": "execute_result"
    }
   ],
   "source": [
    "y_test.argmax(axis=1)"
   ]
  },
  {
   "cell_type": "code",
   "execution_count": 34,
   "metadata": {},
   "outputs": [],
   "source": [
    "from sklearn.metrics import classification_report, accuracy_score, confusion_matrix"
   ]
  },
  {
   "cell_type": "code",
   "execution_count": 35,
   "metadata": {},
   "outputs": [
    {
     "name": "stdout",
     "output_type": "stream",
     "text": [
      "[[19  0  0]\n",
      " [ 0 14  1]\n",
      " [ 0  0 16]]\n"
     ]
    }
   ],
   "source": [
    "print(confusion_matrix(y_test.argmax(axis=1), predictions))"
   ]
  },
  {
   "cell_type": "code",
   "execution_count": 36,
   "metadata": {},
   "outputs": [
    {
     "name": "stdout",
     "output_type": "stream",
     "text": [
      "              precision    recall  f1-score   support\n",
      "\n",
      "           0       1.00      1.00      1.00        19\n",
      "           1       1.00      0.93      0.97        15\n",
      "           2       0.94      1.00      0.97        16\n",
      "\n",
      "    accuracy                           0.98        50\n",
      "   macro avg       0.98      0.98      0.98        50\n",
      "weighted avg       0.98      0.98      0.98        50\n",
      "\n"
     ]
    }
   ],
   "source": [
    "print(classification_report(y_test.argmax(axis=1), predictions))"
   ]
  },
  {
   "cell_type": "code",
   "execution_count": 37,
   "metadata": {},
   "outputs": [
    {
     "name": "stdout",
     "output_type": "stream",
     "text": [
      "0.98\n"
     ]
    }
   ],
   "source": [
    "print(accuracy_score(y_test.argmax(axis=1), predictions))"
   ]
  },
  {
   "cell_type": "code",
   "execution_count": 43,
   "metadata": {},
   "outputs": [],
   "source": [
    "model.save(\"mykeras_model.h5\")"
   ]
  },
  {
   "cell_type": "code",
   "execution_count": 44,
   "metadata": {},
   "outputs": [],
   "source": [
    "from keras.models import load_model"
   ]
  },
  {
   "cell_type": "code",
   "execution_count": 45,
   "metadata": {},
   "outputs": [],
   "source": [
    "new_model = load_model('mykeras_model.h5')"
   ]
  },
  {
   "cell_type": "code",
   "execution_count": 46,
   "metadata": {},
   "outputs": [
    {
     "data": {
      "text/plain": [
       "array([1, 0, 2, 1, 1, 0, 1, 2, 2, 1, 2, 0, 0, 0, 0, 1, 2, 1, 1, 2, 0, 2,\n",
       "       0, 2, 2, 2, 2, 2, 0, 0, 0, 0, 1, 0, 0, 2, 1, 0, 0, 0, 2, 1, 1, 0,\n",
       "       0, 1, 2, 2, 1, 2])"
      ]
     },
     "execution_count": 46,
     "metadata": {},
     "output_type": "execute_result"
    }
   ],
   "source": [
    "new_model.predict_classes(scaled_X_test)"
   ]
  },
  {
   "cell_type": "code",
   "execution_count": null,
   "metadata": {},
   "outputs": [],
   "source": []
  }
 ],
 "metadata": {
  "kernelspec": {
   "display_name": "Python 3",
   "language": "python",
   "name": "python3"
  },
  "language_info": {
   "codemirror_mode": {
    "name": "ipython",
    "version": 3
   },
   "file_extension": ".py",
   "mimetype": "text/x-python",
   "name": "python",
   "nbconvert_exporter": "python",
   "pygments_lexer": "ipython3",
   "version": "3.6.10"
  }
 },
 "nbformat": 4,
 "nbformat_minor": 4
}
